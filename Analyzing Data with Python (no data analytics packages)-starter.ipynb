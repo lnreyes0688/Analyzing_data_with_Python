{
 "cells": [
  {
   "cell_type": "code",
   "execution_count": 1,
   "metadata": {},
   "outputs": [],
   "source": [
    "import unicodecsv as csv"
   ]
  },
  {
   "cell_type": "markdown",
   "metadata": {},
   "source": [
    "# Data Analysis Process"
   ]
  },
  {
   "cell_type": "markdown",
   "metadata": {},
   "source": [
    "### Step 1: Get data"
   ]
  },
  {
   "cell_type": "markdown",
   "metadata": {},
   "source": [
    "1a: Find data"
   ]
  },
  {
   "cell_type": "markdown",
   "metadata": {},
   "source": [
    "Categorical Data - Any value that if you ran mathematical operation on it, you'd get nonsensical data"
   ]
  },
  {
   "cell_type": "markdown",
   "metadata": {},
   "source": [
    "Ordinal Data - Any value that if you ran mathematical operation on it, you'd get sensical data"
   ]
  },
  {
   "cell_type": "markdown",
   "metadata": {},
   "source": [
    "1b. Pull in data"
   ]
  },
  {
   "cell_type": "code",
   "execution_count": 2,
   "metadata": {},
   "outputs": [
    {
     "name": "stdout",
     "output_type": "stream",
     "text": [
      "{'account_key': '700', 'status': 'canceled', 'join_date': '2017-11-10', 'cancel_date': '2017-11-16', 'days_to_cancel': '6', 'is_enrolled': 'FALSE', 'is_canceled': 'TRUE'}\n",
      "{'acct': '0', 'utc_date': '2018-01-09', 'num_courses_visited': '1', 'total_minutes_visited': '11.6793745', 'lessons_completed': '0', 'projects_completed': '0'}\n",
      "{'creation_date': '2018-01-14', 'completion_date': '2018-01-16', 'assigned_rating': 'UNGRADED', 'account_key': '256', 'lesson_key': '3176718735', 'processing_state': 'EVALUATED'}\n"
     ]
    }
   ],
   "source": [
    "# LONG WAY\n",
    "#enrollment_data = []\n",
    "#file = open('enrollments.csv', 'rb')\n",
    "\n",
    "#data = csv.DictReader(file)\n",
    "#for i in data:\n",
    "    #enrollment_data.append(i)\n",
    "\n",
    "#file.close()\n",
    "\n",
    "# SHORT WAY\n",
    "#with open('enrollments.csv', 'rb') as file:\n",
    " #   data = csv.DictReader(file)\n",
    "  #  enrollment_data = list(data)\n",
    "\n",
    "# BEST WAY\n",
    "def read_from_csv(filename):\n",
    "    with open(filename, 'rb') as file:\n",
    "        data = csv.DictReader(file)\n",
    "        return list(data)\n",
    "\n",
    "engagements_data = read_from_csv('engagements.csv')\n",
    "submissions_data = read_from_csv('submissions.csv')\n",
    "enrollments_data = read_from_csv('enrollments.csv')\n",
    "\n",
    "print(enrollments_data[0])\n",
    "print(engagements_data[0])\n",
    "print(submissions_data[0])"
   ]
  },
  {
   "cell_type": "markdown",
   "metadata": {},
   "source": [
    "### Step 2: Clean Data"
   ]
  },
  {
   "cell_type": "code",
   "execution_count": 3,
   "metadata": {},
   "outputs": [],
   "source": [
    "from datetime import datetime as dt\n",
    "\n",
    "def convert_to_date(date_string):\n",
    "    if date_string == '':\n",
    "        return None\n",
    "    return dt.strptime(date_string, '%Y-%m-%d')\n",
    "\n",
    "def convert_to_int(int_string):\n",
    "    if int_string == '':\n",
    "        return None\n",
    "    return int(int_string)\n",
    "\n",
    "def convert_to_float(float_string):\n",
    "    if float_string == '':\n",
    "        return None\n",
    "    return float(float_string)\n",
    "\n",
    "def convert_to_bool(bool_string):\n",
    "    if bool_string == '':\n",
    "        return None\n",
    "    elif bool_string == 'TRUE':\n",
    "        return True\n",
    "    elif bool_string == 'FALSE':\n",
    "        return False"
   ]
  },
  {
   "cell_type": "code",
   "execution_count": 5,
   "metadata": {},
   "outputs": [
    {
     "data": {
      "text/plain": [
       "{'account_key': '700',\n",
       " 'status': 'canceled',\n",
       " 'join_date': '2017-11-10',\n",
       " 'cancel_date': '2017-11-16',\n",
       " 'days_to_cancel': '6',\n",
       " 'is_enrolled': 'FALSE',\n",
       " 'is_canceled': 'TRUE'}"
      ]
     },
     "execution_count": 5,
     "metadata": {},
     "output_type": "execute_result"
    }
   ],
   "source": [
    "enrollments_data[0]"
   ]
  },
  {
   "cell_type": "code",
   "execution_count": 6,
   "metadata": {},
   "outputs": [],
   "source": [
    "for r in enrollments_data:\n",
    "    r['join_date'] = convert_to_date(r['join_date'])\n",
    "    r['cancel_date'] = convert_to_date(r['cancel_date'])\n",
    "    r['days_to_cancel'] = convert_to_int(r['days_to_cancel'])\n",
    "    r['is_enrolled'] = convert_to_bool(r['is_enrolled'])\n",
    "    r['is_canceled'] = convert_to_bool(r['is_canceled'])"
   ]
  },
  {
   "cell_type": "code",
   "execution_count": 7,
   "metadata": {},
   "outputs": [
    {
     "data": {
      "text/plain": [
       "{'account_key': '700',\n",
       " 'status': 'canceled',\n",
       " 'join_date': datetime.datetime(2017, 11, 10, 0, 0),\n",
       " 'cancel_date': datetime.datetime(2017, 11, 16, 0, 0),\n",
       " 'days_to_cancel': 6,\n",
       " 'is_enrolled': False,\n",
       " 'is_canceled': True}"
      ]
     },
     "execution_count": 7,
     "metadata": {},
     "output_type": "execute_result"
    }
   ],
   "source": [
    "enrollments_data[0]"
   ]
  },
  {
   "cell_type": "code",
   "execution_count": 9,
   "metadata": {
    "scrolled": true
   },
   "outputs": [
    {
     "data": {
      "text/plain": [
       "{'acct': '0',\n",
       " 'utc_date': '2018-01-09',\n",
       " 'num_courses_visited': '1',\n",
       " 'total_minutes_visited': '11.6793745',\n",
       " 'lessons_completed': '0',\n",
       " 'projects_completed': '0'}"
      ]
     },
     "execution_count": 9,
     "metadata": {},
     "output_type": "execute_result"
    }
   ],
   "source": [
    "engagements_data[0]"
   ]
  },
  {
   "cell_type": "code",
   "execution_count": 10,
   "metadata": {},
   "outputs": [],
   "source": [
    "for r in engagements_data:\n",
    "    r['utc_date'] = convert_to_date(r['utc_date'])\n",
    "    r['num_courses_visited'] = convert_to_int(r['num_courses_visited'])\n",
    "    r['total_minutes_visited'] = convert_to_float(r['total_minutes_visited'])\n",
    "    r['lessons_completed'] = convert_to_int(r['lessons_completed'])\n",
    "    r['projects_completed'] = convert_to_int(r['projects_completed'])"
   ]
  },
  {
   "cell_type": "code",
   "execution_count": 11,
   "metadata": {
    "scrolled": true
   },
   "outputs": [
    {
     "data": {
      "text/plain": [
       "{'acct': '0',\n",
       " 'utc_date': datetime.datetime(2018, 1, 9, 0, 0),\n",
       " 'num_courses_visited': 1,\n",
       " 'total_minutes_visited': 11.6793745,\n",
       " 'lessons_completed': 0,\n",
       " 'projects_completed': 0}"
      ]
     },
     "execution_count": 11,
     "metadata": {},
     "output_type": "execute_result"
    }
   ],
   "source": [
    "engagements_data[0]"
   ]
  },
  {
   "cell_type": "code",
   "execution_count": 12,
   "metadata": {},
   "outputs": [
    {
     "data": {
      "text/plain": [
       "{'creation_date': '2018-01-14',\n",
       " 'completion_date': '2018-01-16',\n",
       " 'assigned_rating': 'UNGRADED',\n",
       " 'account_key': '256',\n",
       " 'lesson_key': '3176718735',\n",
       " 'processing_state': 'EVALUATED'}"
      ]
     },
     "execution_count": 12,
     "metadata": {},
     "output_type": "execute_result"
    }
   ],
   "source": [
    "submissions_data[0]"
   ]
  },
  {
   "cell_type": "code",
   "execution_count": 13,
   "metadata": {},
   "outputs": [],
   "source": [
    "for r in submissions_data:\n",
    "    r['creation_date'] = convert_to_date(r['creation_date'])\n",
    "    r['completion_date'] = convert_to_date(r['completion_date'])"
   ]
  },
  {
   "cell_type": "code",
   "execution_count": 14,
   "metadata": {},
   "outputs": [
    {
     "data": {
      "text/plain": [
       "{'creation_date': datetime.datetime(2018, 1, 14, 0, 0),\n",
       " 'completion_date': datetime.datetime(2018, 1, 16, 0, 0),\n",
       " 'assigned_rating': 'UNGRADED',\n",
       " 'account_key': '256',\n",
       " 'lesson_key': '3176718735',\n",
       " 'processing_state': 'EVALUATED'}"
      ]
     },
     "execution_count": 14,
     "metadata": {},
     "output_type": "execute_result"
    }
   ],
   "source": [
    "submissions_data[0]"
   ]
  },
  {
   "cell_type": "code",
   "execution_count": 15,
   "metadata": {},
   "outputs": [],
   "source": [
    "# Colum name in engagement_data for 'acct' is not consistent with 'account_key' in other datasets. Change it\n",
    "# RUN ONLY ONCE!!!!!!!!!!!!!!!\n",
    "for row in engagements_data:\n",
    "    row['account_key'] = row['acct']\n",
    "    del row['acct']"
   ]
  },
  {
   "cell_type": "code",
   "execution_count": 16,
   "metadata": {},
   "outputs": [
    {
     "data": {
      "text/plain": [
       "{'utc_date': datetime.datetime(2018, 1, 9, 0, 0),\n",
       " 'num_courses_visited': 1,\n",
       " 'total_minutes_visited': 11.6793745,\n",
       " 'lessons_completed': 0,\n",
       " 'projects_completed': 0,\n",
       " 'account_key': '0'}"
      ]
     },
     "execution_count": 16,
     "metadata": {},
     "output_type": "execute_result"
    }
   ],
   "source": [
    "engagements_data[0]"
   ]
  },
  {
   "cell_type": "markdown",
   "metadata": {},
   "source": [
    "### Step 3: Answer Questions with Data"
   ]
  },
  {
   "cell_type": "code",
   "execution_count": null,
   "metadata": {},
   "outputs": [],
   "source": [
    "print(f\"Enrollments records: {len(enrollments_data)}\")\n",
    "print(f\"Engagements records: {len(engagements_data)}\")\n",
    "print(f\"Submissions records: {len(submissions_data)}\")"
   ]
  },
  {
   "cell_type": "code",
   "execution_count": 17,
   "metadata": {},
   "outputs": [],
   "source": [
    "def get_unique_records(dataset, column_name):\n",
    "    unique_data = set()\n",
    "    for i in dataset:\n",
    "        unique_data.add(i[column_name])\n",
    "    return unique_data\n",
    "\n",
    "unique_enrollments = get_unique_records(enrollments_data, 'account_key')\n",
    "unique_engagements = get_unique_records(engagements_data, 'account_key')\n",
    "unique_submissions = get_unique_records(submissions_data, 'account_key')"
   ]
  },
  {
   "cell_type": "code",
   "execution_count": null,
   "metadata": {},
   "outputs": [],
   "source": [
    "# How many unique user records can be found in each dataset?"
   ]
  },
  {
   "cell_type": "code",
   "execution_count": 18,
   "metadata": {},
   "outputs": [
    {
     "name": "stdout",
     "output_type": "stream",
     "text": [
      "Unique enrollment records: 1302\n",
      "Unique engagement records: 1237\n",
      "Unique submission records: 743\n"
     ]
    }
   ],
   "source": [
    "print(f\"Unique enrollment records: {len(unique_enrollments)}\")\n",
    "print(f\"Unique engagement records: {len(unique_engagements)}\")\n",
    "print(f\"Unique submission records: {len(unique_submissions)}\")"
   ]
  },
  {
   "cell_type": "code",
   "execution_count": 20,
   "metadata": {},
   "outputs": [
    {
     "name": "stdout",
     "output_type": "stream",
     "text": [
      "{'account_key': '1304', 'status': 'canceled', 'join_date': datetime.datetime(2018, 1, 10, 0, 0), 'cancel_date': datetime.datetime(2018, 3, 10, 0, 0), 'days_to_cancel': 59, 'is_enrolled': True, 'is_canceled': True}\n",
      "\n",
      "{'account_key': '1304', 'status': 'canceled', 'join_date': datetime.datetime(2018, 3, 10, 0, 0), 'cancel_date': datetime.datetime(2018, 6, 17, 0, 0), 'days_to_cancel': 99, 'is_enrolled': True, 'is_canceled': True}\n",
      "\n",
      "{'account_key': '1101', 'status': 'current', 'join_date': datetime.datetime(2018, 2, 25, 0, 0), 'cancel_date': None, 'days_to_cancel': None, 'is_enrolled': True, 'is_canceled': False}\n",
      "\n"
     ]
    }
   ],
   "source": [
    "outliers = 0\n",
    "for i in enrollments_data:\n",
    "    if i['account_key'] not in unique_engagements and i['join_date'] != i['cancel_date']:\n",
    "        outliers+=1\n",
    "        print(i, end='\\n\\n')"
   ]
  },
  {
   "cell_type": "code",
   "execution_count": 21,
   "metadata": {},
   "outputs": [
    {
     "name": "stdout",
     "output_type": "stream",
     "text": [
      "6 possible test accounts found\n"
     ]
    }
   ],
   "source": [
    "test_accounts = set()\n",
    "for i in enrollments_data:\n",
    "    if i['is_enrolled']:\n",
    "        test_accounts.add(i['account_key'])\n",
    "print(f\"{len(test_accounts)} possible test accounts found\")"
   ]
  },
  {
   "cell_type": "code",
   "execution_count": 22,
   "metadata": {
    "scrolled": true
   },
   "outputs": [],
   "source": [
    "# Now that we have access to all of the test accounts, we can remove those records from each dataset \n",
    "# by its account_key\n",
    "\n",
    "def remove_test_accounts(dataset):\n",
    "    records_to_remove = []\n",
    "    for i in dataset:\n",
    "        if i['account_key'] not in test_accounts:\n",
    "            records_to_remove.append(i)\n",
    "    return records_to_remove"
   ]
  },
  {
   "cell_type": "code",
   "execution_count": 23,
   "metadata": {},
   "outputs": [],
   "source": [
    "# Removes data associated with test accounts\n",
    "true_enrollments = remove_test_accounts(enrollments_data)\n",
    "true_engagements = remove_test_accounts(engagements_data)\n",
    "true_submissions = remove_test_accounts(submissions_data)"
   ]
  },
  {
   "cell_type": "code",
   "execution_count": 24,
   "metadata": {},
   "outputs": [
    {
     "name": "stdout",
     "output_type": "stream",
     "text": [
      "Enrollment records: 1640\n",
      "Engagement records: 136240\n",
      "Submission records: 3642\n"
     ]
    }
   ],
   "source": [
    "print(f\"Enrollment records: {len(enrollments_data)}\")\n",
    "print(f\"Engagement records: {len(engagements_data)}\")\n",
    "print(f\"Submission records: {len(submissions_data)}\")"
   ]
  },
  {
   "cell_type": "code",
   "execution_count": 25,
   "metadata": {},
   "outputs": [
    {
     "name": "stdout",
     "output_type": "stream",
     "text": [
      "True enrollment records: 1622\n",
      "True engagement records: 135656\n",
      "True submission records: 3634\n"
     ]
    }
   ],
   "source": [
    "print(f\"True enrollment records: {len(true_enrollments)}\")\n",
    "print(f\"True engagement records: {len(true_engagements)}\")\n",
    "print(f\"True submission records: {len(true_submissions)}\")"
   ]
  },
  {
   "cell_type": "markdown",
   "metadata": {},
   "source": [
    "<h4>Find quality accounts in which:</h4>\n",
    "<ol>\n",
    "    <li>The account is currently active i.e. is_canceled is False</li>\n",
    "    <li>days_to_cancel is greater than 7 i.e. the trial period</li>\n",
    "    <li>The latest vald record for each particular VALID user</li>\n",
    "</ol>"
   ]
  },
  {
   "cell_type": "code",
   "execution_count": null,
   "metadata": {},
   "outputs": [],
   "source": [
    "# {\n",
    "#     '332': '2018-10-05', \n",
    "# }"
   ]
  },
  {
   "cell_type": "code",
   "execution_count": 26,
   "metadata": {},
   "outputs": [],
   "source": [
    "accounts_in_good_standing = dict()\n",
    "\n",
    "for i in true_enrollments:\n",
    "    # the account is currently active i.e. is_canceled is False\n",
    "    if i['days_to_cancel'] is not None and i['cancel_date'] is not None:\n",
    "        if not i['is_canceled'] or i['days_to_cancel'] > 7:\n",
    "            # the latest valid record for each particular VALID user\n",
    "            if i['account_key'] not in accounts_in_good_standing or i['join_date'] > accounts_in_good_standing[i['account_key']]:\n",
    "                accounts_in_good_standing[i['account_key']] = i['join_date']"
   ]
  },
  {
   "cell_type": "code",
   "execution_count": 27,
   "metadata": {},
   "outputs": [
    {
     "data": {
      "text/plain": [
       "datetime.datetime(2018, 3, 10, 0, 0)"
      ]
     },
     "execution_count": 27,
     "metadata": {},
     "output_type": "execute_result"
    }
   ],
   "source": [
    "accounts_in_good_standing['429']"
   ]
  },
  {
   "cell_type": "code",
   "execution_count": 28,
   "metadata": {},
   "outputs": [
    {
     "data": {
      "text/plain": [
       "445"
      ]
     },
     "execution_count": 28,
     "metadata": {},
     "output_type": "execute_result"
    }
   ],
   "source": [
    "len(accounts_in_good_standing)"
   ]
  },
  {
   "cell_type": "code",
   "execution_count": 29,
   "metadata": {},
   "outputs": [],
   "source": [
    "# How many students were active on the website within the first week?\n",
    "def remove_free_trials(dataset):\n",
    "    free_trials_list = []\n",
    "    for i in dataset:\n",
    "        if i['account_key'] in accounts_in_good_standing:\n",
    "            free_trials_list.append(i)\n",
    "    return free_trials_list\n",
    "\n",
    "quality_enrollments = remove_free_trials(true_enrollments)\n",
    "quality_engagements = remove_free_trials(true_engagements)\n",
    "quality_submissions = remove_free_trials(true_submissions)"
   ]
  },
  {
   "cell_type": "code",
   "execution_count": 30,
   "metadata": {},
   "outputs": [
    {
     "name": "stdout",
     "output_type": "stream",
     "text": [
      "Quality enrollments records: 719\n",
      "Quality engagements records: 55675\n",
      "Quality submissions records: 1110\n"
     ]
    }
   ],
   "source": [
    "print(f\"Quality enrollments records: {len(quality_enrollments)}\")\n",
    "print(f\"Quality engagements records: {len(quality_engagements)}\")\n",
    "print(f\"Quality submissions records: {len(quality_submissions)}\")"
   ]
  },
  {
   "cell_type": "code",
   "execution_count": 31,
   "metadata": {},
   "outputs": [],
   "source": [
    "# Out of all of the students who lasted past the free trial, \n",
    "# how many of them were also active on the website within the first week?\n",
    "def engagement_within_first_week(date_joined, date_of_first_engagement):\n",
    "    time_difference = date_of_first_engagement - date_joined\n",
    "    if time_difference.days >= 0 and time_difference.days < 8:\n",
    "        return True\n",
    "    \n",
    "for i in quality_engagements:\n",
    "    if i['num_courses_visited'] > 0:\n",
    "        i['has_visited'] = 1\n",
    "    else:\n",
    "        i['has_visited'] = 0\n",
    "        \n",
    "first_week_engagements = list()\n",
    "\n",
    "for i in quality_engagements:\n",
    "    # accounts_in_good_standing['429'] = datetime.datetime(2018, 3, 10, 0, 0)\n",
    "    if engagement_within_first_week(accounts_in_good_standing[i['account_key']], i['utc_date']):\n",
    "        first_week_engagements.append(i)"
   ]
  },
  {
   "cell_type": "code",
   "execution_count": 32,
   "metadata": {
    "scrolled": true
   },
   "outputs": [
    {
     "name": "stdout",
     "output_type": "stream",
     "text": [
      "3559 engagements within the first week.\n"
     ]
    }
   ],
   "source": [
    "print(f\"{len(first_week_engagements)} engagements within the first week.\")"
   ]
  },
  {
   "cell_type": "code",
   "execution_count": 33,
   "metadata": {
    "scrolled": true
   },
   "outputs": [
    {
     "data": {
      "text/plain": [
       "{'utc_date': datetime.datetime(2017, 11, 10, 0, 0),\n",
       " 'num_courses_visited': 2,\n",
       " 'total_minutes_visited': 136.1835995,\n",
       " 'lessons_completed': 0,\n",
       " 'projects_completed': 0,\n",
       " 'account_key': '3',\n",
       " 'has_visited': 1}"
      ]
     },
     "execution_count": 33,
     "metadata": {},
     "output_type": "execute_result"
    }
   ],
   "source": [
    "first_week_engagements[0]"
   ]
  },
  {
   "cell_type": "code",
   "execution_count": 34,
   "metadata": {},
   "outputs": [],
   "source": [
    "# help(defaultdict)"
   ]
  },
  {
   "cell_type": "code",
   "execution_count": 35,
   "metadata": {},
   "outputs": [],
   "source": [
    "# How many minutes did each students spend online in the first week?\n",
    "from collections import defaultdict\n",
    "\n",
    "def compare(dataset, a_key):\n",
    "    new_data = defaultdict(list)\n",
    "    for i in dataset:\n",
    "        account_key = i[a_key]\n",
    "        new_data[account_key].append(i)\n",
    "    return new_data\n",
    "\n",
    "engagements_grouped_by_account = compare(first_week_engagements, 'account_key')\n",
    "\n",
    "# engagements_grouped_by_account['5']"
   ]
  },
  {
   "cell_type": "code",
   "execution_count": 36,
   "metadata": {},
   "outputs": [],
   "source": [
    "# {\n",
    "#     '429': 886\n",
    "# }"
   ]
  },
  {
   "cell_type": "code",
   "execution_count": 37,
   "metadata": {},
   "outputs": [
    {
     "data": {
      "text/plain": [
       "{'3': 1023.5579746999999,\n",
       " '5': 370.82494396,\n",
       " '15': 1071.12533757,\n",
       " '18': 155.1361575,\n",
       " '19': 0.0,\n",
       " '24': 943.1881172000001,\n",
       " '25': 0.0,\n",
       " '31': 247.27557963999996,\n",
       " '34': 138.1789523,\n",
       " '42': 174.30704300000002,\n",
       " '43': 88.822038,\n",
       " '44': 731.72366783,\n",
       " '45': 979.7454166629999,\n",
       " '51': 0.0,\n",
       " '52': 3.227523833,\n",
       " '53': 43.53851617,\n",
       " '57': 750.894147533,\n",
       " '60': 0.0,\n",
       " '62': 293.3831222,\n",
       " '64': 589.58194586,\n",
       " '65': 422.27366,\n",
       " '67': 1123.02533437,\n",
       " '69': 0.0,\n",
       " '72': 883.9906950330001,\n",
       " '74': 90.48065633,\n",
       " '76': 17.658779,\n",
       " '78': 6.609209333,\n",
       " '79': 416.495983833,\n",
       " '85': 500.49217067,\n",
       " '88': 106.16380783,\n",
       " '90': 4.842514,\n",
       " '91': 70.37317134,\n",
       " '92': 715.4277596699999,\n",
       " '93': 932.7172561699999,\n",
       " '97': 494.84799353,\n",
       " '98': 531.4097201300001,\n",
       " '99': 425.60350947,\n",
       " '101': 188.92038351,\n",
       " '105': 573.58079867,\n",
       " '106': 535.168407333,\n",
       " '108': 164.270890837,\n",
       " '110': 1403.143966737,\n",
       " '111': 169.1595922,\n",
       " '113': 139.57379017,\n",
       " '119': 103.90436599,\n",
       " '123': 0.0,\n",
       " '130': 0.0,\n",
       " '132': 1428.3456270000001,\n",
       " '134': 1098.6832576400002,\n",
       " '136': 66.30446384,\n",
       " '138': 46.42543033,\n",
       " '140': 202.6228267,\n",
       " '141': 544.9926586,\n",
       " '142': 505.63867662999996,\n",
       " '143': 405.02286753,\n",
       " '147': 416.49688996,\n",
       " '148': 0.0,\n",
       " '150': 486.24643833700003,\n",
       " '151': 969.1894240600001,\n",
       " '153': 116.8988095,\n",
       " '157': 10.884649667,\n",
       " '159': 18.44071917,\n",
       " '160': 1011.9525945299999,\n",
       " '161': 531.8882432099999,\n",
       " '165': 1083.22753966,\n",
       " '168': 1198.3499316,\n",
       " '169': 223.6821162,\n",
       " '170': 586.70428494,\n",
       " '171': 2183.9339814,\n",
       " '174': 472.61704748999995,\n",
       " '178': 783.3383064,\n",
       " '179': 967.46286586,\n",
       " '180': 234.47278604000002,\n",
       " '181': 166.14326012700002,\n",
       " '185': 0.0,\n",
       " '187': 743.655930133,\n",
       " '190': 353.05917586000004,\n",
       " '191': 28.868115997,\n",
       " '193': 0.0,\n",
       " '197': 931.3076662,\n",
       " '203': 620.4744591699999,\n",
       " '208': 356.77551814000003,\n",
       " '217': 657.39103014,\n",
       " '220': 346.78228750000005,\n",
       " '221': 178.70479886999996,\n",
       " '227': 548.49517273,\n",
       " '229': 131.7264965,\n",
       " '243': 46.60514067,\n",
       " '251': 357.8209291,\n",
       " '253': 465.4912042,\n",
       " '256': 0.0,\n",
       " '258': 748.13000253,\n",
       " '259': 832.42184273,\n",
       " '261': 0.0,\n",
       " '263': 34.281020330000004,\n",
       " '264': 110.09569266,\n",
       " '265': 419.7968294,\n",
       " '268': 314.33318003,\n",
       " '270': 1123.238648,\n",
       " '272': 1207.3723326629997,\n",
       " '279': 375.05861866,\n",
       " '284': 283.2611105,\n",
       " '285': 183.175982167,\n",
       " '289': 1092.578964797,\n",
       " '293': 566.77326963,\n",
       " '306': 6.61027,\n",
       " '315': 952.1811420700001,\n",
       " '316': 1825.6310638700004,\n",
       " '321': 6.395196833,\n",
       " '322': 0.0,\n",
       " '323': 579.60225253,\n",
       " '329': 89.68924583,\n",
       " '334': 9.553760833,\n",
       " '335': 947.24981713,\n",
       " '338': 0.0,\n",
       " '339': 0.0,\n",
       " '343': 443.5831058,\n",
       " '347': 104.97653,\n",
       " '348': 445.67912980299997,\n",
       " '361': 1053.7764164300002,\n",
       " '362': 58.315108499999994,\n",
       " '366': 23.551663167,\n",
       " '367': 257.3663085,\n",
       " '378': 0.0,\n",
       " '386': 0.0,\n",
       " '388': 147.8970597,\n",
       " '394': 990.7801981700002,\n",
       " '397': 261.91549584,\n",
       " '402': 81.871438503,\n",
       " '404': 737.44397104,\n",
       " '407': 621.88870587,\n",
       " '408': 59.77253067,\n",
       " '410': 1007.8260931,\n",
       " '411': 0.0,\n",
       " '412': 108.9097063,\n",
       " '413': 578.95028613,\n",
       " '415': 183.21106814,\n",
       " '416': 934.515744067,\n",
       " '418': 86.78249267,\n",
       " '419': 26.205425502999997,\n",
       " '423': 0.0,\n",
       " '426': 0.0,\n",
       " '427': 413.54201817,\n",
       " '429': 0.0,\n",
       " '431': 77.97422683,\n",
       " '434': 832.77642093,\n",
       " '439': 278.86463337,\n",
       " '440': 86.82050367,\n",
       " '441': 1360.78769464,\n",
       " '442': 383.48329069700003,\n",
       " '444': 0.0,\n",
       " '447': 291.0635962,\n",
       " '458': 121.39381849699998,\n",
       " '460': 1427.54662863,\n",
       " '465': 260.92380287,\n",
       " '467': 210.01318516999999,\n",
       " '473': 0.0,\n",
       " '474': 285.75573753000003,\n",
       " '477': 793.77720249,\n",
       " '480': 0.0,\n",
       " '483': 869.7483835,\n",
       " '499': 440.401314,\n",
       " '500': 89.3707275,\n",
       " '504': 388.7726185,\n",
       " '505': 892.60699383,\n",
       " '507': 63.843047333,\n",
       " '512': 113.02499486699999,\n",
       " '514': 62.848290659999996,\n",
       " '520': 109.51497699999999,\n",
       " '521': 406.04536986,\n",
       " '523': 0.0,\n",
       " '524': 85.26222933,\n",
       " '525': 0.0,\n",
       " '528': 514.0743979700001,\n",
       " '529': 334.79837916699995,\n",
       " '532': 505.55668749999995,\n",
       " '534': 826.3571918700001,\n",
       " '541': 20.879544832999997,\n",
       " '544': 1421.7436063300001,\n",
       " '547': 0.0,\n",
       " '549': 124.2423835,\n",
       " '550': 18.95128533,\n",
       " '557': 0.0,\n",
       " '558': 1334.00295304,\n",
       " '563': 21.972605,\n",
       " '564': 766.53773037,\n",
       " '569': 1603.15193103,\n",
       " '571': 312.22133734,\n",
       " '576': 1366.5670150370001,\n",
       " '577': 120.55847800299998,\n",
       " '580': 851.429489267,\n",
       " '583': 843.5311485300001,\n",
       " '584': 0.0,\n",
       " '587': 181.354424837,\n",
       " '589': 168.39389986700002,\n",
       " '590': 71.15551016,\n",
       " '591': 0.0,\n",
       " '597': 1158.3549946,\n",
       " '599': 0.0,\n",
       " '601': 267.874047797,\n",
       " '602': 615.9597957,\n",
       " '606': 456.33328183,\n",
       " '610': 873.26167336,\n",
       " '611': 382.930370467,\n",
       " '612': 52.91365067,\n",
       " '618': 513.81269814,\n",
       " '622': 396.82058732999997,\n",
       " '623': 230.7043745,\n",
       " '624': 1197.02408723,\n",
       " '626': 95.12250383,\n",
       " '630': 537.7439134900001,\n",
       " '631': 237.76465218,\n",
       " '634': 324.29165179999995,\n",
       " '636': 185.39436433,\n",
       " '637': 89.05729567,\n",
       " '639': 416.14186616999996,\n",
       " '640': 0.0,\n",
       " '641': 340.7062775,\n",
       " '643': 218.9373798,\n",
       " '645': 1122.85546837,\n",
       " '649': 700.47435977,\n",
       " '650': 114.84451633,\n",
       " '651': 1460.3119036700002,\n",
       " '655': 333.60102137,\n",
       " '657': 0.0,\n",
       " '660': 225.80730217,\n",
       " '661': 92.55472316,\n",
       " '666': 254.5694942,\n",
       " '667': 144.12431733,\n",
       " '669': 22.73084533,\n",
       " '670': 454.2731635,\n",
       " '671': 162.016680833,\n",
       " '678': 100.0702155,\n",
       " '682': 25.243540000000003,\n",
       " '690': 159.93331549700002,\n",
       " '692': 16.604203,\n",
       " '693': 0.0,\n",
       " '696': 666.3290910299999,\n",
       " '697': 88.1119545,\n",
       " '698': 70.974336167,\n",
       " '702': 0.0,\n",
       " '704': 0.0,\n",
       " '705': 0.0,\n",
       " '706': 1467.2371881000001,\n",
       " '709': 88.0103965,\n",
       " '710': 3.561991333,\n",
       " '712': 253.23675753,\n",
       " '713': 139.060529,\n",
       " '718': 0.0,\n",
       " '719': 9.4907925,\n",
       " '720': 449.5952606370001,\n",
       " '722': 29.9067615,\n",
       " '726': 21.12844967,\n",
       " '729': 0.0,\n",
       " '730': 41.7199715,\n",
       " '732': 219.92606669999998,\n",
       " '735': 0.0,\n",
       " '736': 313.501810333,\n",
       " '743': 0.0,\n",
       " '744': 374.57610381,\n",
       " '746': 846.66856726,\n",
       " '752': 30.59517617,\n",
       " '753': 116.6288768,\n",
       " '756': 0.0,\n",
       " '757': 449.79538263000006,\n",
       " '759': 0.0,\n",
       " '761': 100.063683333,\n",
       " '762': 114.52385583,\n",
       " '769': 135.6825435,\n",
       " '776': 0.0,\n",
       " '777': 199.31994916,\n",
       " '778': 48.19741517,\n",
       " '779': 4.2604045,\n",
       " '780': 0.0,\n",
       " '785': 4.786497167,\n",
       " '786': 23.695871503,\n",
       " '787': 0.0,\n",
       " '792': 1589.158705,\n",
       " '793': 0.0,\n",
       " '796': 0.0,\n",
       " '800': 203.85678250299998,\n",
       " '801': 0.0,\n",
       " '804': 22.73466567,\n",
       " '808': 106.2993215,\n",
       " '811': 1138.31770153,\n",
       " '822': 27.94316733,\n",
       " '823': 0.0,\n",
       " '824': 260.470246496,\n",
       " '825': 49.29607483,\n",
       " '828': 392.68479187,\n",
       " '829': 129.762569,\n",
       " '831': 51.016355999999995,\n",
       " '833': 2.380932333,\n",
       " '835': 0.0,\n",
       " '836': 0.0,\n",
       " '839': 13.587055,\n",
       " '844': 839.243589237,\n",
       " '846': 32.68610117,\n",
       " '855': 92.68960016,\n",
       " '856': 0.0,\n",
       " '857': 0.0,\n",
       " '858': 260.948644837,\n",
       " '859': 2.541221667,\n",
       " '864': 53.1295885,\n",
       " '866': 0.0,\n",
       " '867': 0.0,\n",
       " '868': 13.442560666999999,\n",
       " '873': 30.2541315,\n",
       " '877': 26.52309817,\n",
       " '882': 0.0,\n",
       " '896': 0.0,\n",
       " '897': 22.08896567,\n",
       " '900': 0.0,\n",
       " '905': 108.98321334,\n",
       " '906': 0.0,\n",
       " '909': 63.3749175,\n",
       " '912': 0.0,\n",
       " '913': 72.9583085,\n",
       " '916': 65.7383995,\n",
       " '918': 21.086721,\n",
       " '919': 693.4264896600001,\n",
       " '923': 0.0,\n",
       " '927': 125.446569167,\n",
       " '932': 0.0,\n",
       " '934': 5.03956,\n",
       " '937': 222.16125416,\n",
       " '938': 69.45209899999999,\n",
       " '941': 2.999349667,\n",
       " '948': 94.32375533,\n",
       " '952': 194.51546903000002,\n",
       " '954': 91.64868467000001,\n",
       " '955': 240.59597452999998,\n",
       " '956': 6.806882833,\n",
       " '958': 0.0,\n",
       " '965': 796.0860388,\n",
       " '966': 26.584319333000003,\n",
       " '969': 24.966902329999996,\n",
       " '972': 96.11371283999999,\n",
       " '976': 65.05270717,\n",
       " '983': 0.0,\n",
       " '984': 188.307856327,\n",
       " '985': 46.494977,\n",
       " '988': 61.420162,\n",
       " '989': 0.0,\n",
       " '1007': 0.0,\n",
       " '1009': 0.0,\n",
       " '1011': 164.936009491,\n",
       " '1013': 4.3800225,\n",
       " '1015': 100.326129003,\n",
       " '1019': 75.87298200000001,\n",
       " '1022': 23.549948167,\n",
       " '1029': 3.508856667,\n",
       " '1030': 218.55650866300002,\n",
       " '1033': 959.95343761,\n",
       " '1038': 0.0,\n",
       " '1040': 12.98248983,\n",
       " '1042': 45.5670335,\n",
       " '1049': 37.853095,\n",
       " '1052': 117.1958063,\n",
       " '1053': 81.44155333,\n",
       " '1054': 0.0,\n",
       " '1055': 71.57364067,\n",
       " '1058': 0.0,\n",
       " '1060': 1768.5227493,\n",
       " '1062': 366.31941634000003,\n",
       " '1066': 0.0,\n",
       " '1071': 0.0,\n",
       " '1074': 0.0,\n",
       " '1075': 90.6038805,\n",
       " '1077': 152.2132672,\n",
       " '1082': 51.1061375,\n",
       " '1088': 0.0,\n",
       " '1089': 102.89907667,\n",
       " '1090': 0.0,\n",
       " '1094': 464.47214951,\n",
       " '1095': 30.09755267,\n",
       " '1099': 108.88937200999999,\n",
       " '1102': 0.0,\n",
       " '1103': 0.0,\n",
       " '1107': 73.62896584,\n",
       " '1111': 0.0,\n",
       " '1115': 0.0,\n",
       " '1117': 0.0,\n",
       " '1118': 89.38367816,\n",
       " '1121': 20.215805333,\n",
       " '1123': 12.65633967,\n",
       " '1124': 0.0,\n",
       " '1128': 55.827512667,\n",
       " '1130': 278.31484216,\n",
       " '1139': 321.751190867,\n",
       " '1140': 208.498611167,\n",
       " '1142': 0.0,\n",
       " '1146': 105.577247997,\n",
       " '1153': 679.80029763,\n",
       " '1160': 2.704084833,\n",
       " '1161': 87.81235717,\n",
       " '1163': 80.21072266,\n",
       " '1167': 1229.5553959630001,\n",
       " '1170': 91.43698283,\n",
       " '1174': 76.1418825,\n",
       " '1175': 2.7094835,\n",
       " '1178': 0.0,\n",
       " '1183': 258.8492892,\n",
       " '1188': 411.07007933,\n",
       " '1189': 481.1140735,\n",
       " '1194': 168.1376205,\n",
       " '1198': 6.5907805,\n",
       " '1199': 4.714764167,\n",
       " '1200': 824.427983767,\n",
       " '1201': 526.6600761,\n",
       " '1202': 48.679263336999995,\n",
       " '1204': 381.32434615999995,\n",
       " '1205': 0.0,\n",
       " '1207': 26.4703245,\n",
       " '1208': 114.066953,\n",
       " '1210': 430.78566787,\n",
       " '1211': 3.564415833,\n",
       " '1212': 0.0,\n",
       " '1214': 12.822523,\n",
       " '1215': 1360.7287002000003,\n",
       " '1217': 32.0539045,\n",
       " '1220': 118.30495933,\n",
       " '1226': 0.0,\n",
       " '1236': 6.864152333,\n",
       " '1242': 49.1640855,\n",
       " '1243': 62.91143633,\n",
       " '1244': 53.59622567,\n",
       " '1247': 84.73468383299999,\n",
       " '1248': 3.509181833,\n",
       " '1249': 31.995718997,\n",
       " '1253': 0.0,\n",
       " '1254': 187.32349033,\n",
       " '1259': 97.98160567,\n",
       " '1260': 0.0,\n",
       " '1264': 2.017341333,\n",
       " '1266': 0.0,\n",
       " '1268': 11.33088867,\n",
       " '1277': 0.0,\n",
       " '1285': 32.42569817,\n",
       " '1287': 0.0,\n",
       " '1289': 5.456283333,\n",
       " '1292': 233.20550336600002,\n",
       " '1299': 117.9899268,\n",
       " '1303': 0.0,\n",
       " '1305': 9.771473833}"
      ]
     },
     "execution_count": 37,
     "metadata": {},
     "output_type": "execute_result"
    }
   ],
   "source": [
    "def sum_records(dataset, column):\n",
    "    # dataset = engagements_grouped_by_account\n",
    "    new_data = dict()\n",
    "    for k, v in dataset.items():\n",
    "        # k = engagements_grouped_by_account['5']\n",
    "        # v = engagements_grouped_by_account['5'][{...}, {...}, {...}, ...]\n",
    "        sum_ = 0\n",
    "        for record in v:\n",
    "            sum_+=record[column]\n",
    "        new_data[k] = sum_\n",
    "    return new_data\n",
    "\n",
    "minutes_per_accounts = sum_records(engagements_grouped_by_account, 'total_minutes_visited')\n",
    "minutes_per_accounts"
   ]
  },
  {
   "cell_type": "code",
   "execution_count": 38,
   "metadata": {},
   "outputs": [
    {
     "data": {
      "text/plain": [
       "{'utc_date': datetime.datetime(2017, 11, 10, 0, 0),\n",
       " 'num_courses_visited': 2,\n",
       " 'total_minutes_visited': 136.1835995,\n",
       " 'lessons_completed': 0,\n",
       " 'projects_completed': 0,\n",
       " 'account_key': '3',\n",
       " 'has_visited': 1}"
      ]
     },
     "execution_count": 38,
     "metadata": {},
     "output_type": "execute_result"
    }
   ],
   "source": [
    "engagements_grouped_by_account['3'][0]"
   ]
  },
  {
   "cell_type": "code",
   "execution_count": 39,
   "metadata": {
    "scrolled": true
   },
   "outputs": [],
   "source": [
    "most_minutes_spent = sorted(minutes_per_accounts.values(), reverse=True)[0]"
   ]
  },
  {
   "cell_type": "code",
   "execution_count": 40,
   "metadata": {},
   "outputs": [
    {
     "name": "stdout",
     "output_type": "stream",
     "text": [
      "[{'utc_date': datetime.datetime(2018, 3, 8, 0, 0), 'num_courses_visited': 2, 'total_minutes_visited': 155.9647843, 'lessons_completed': 1, 'projects_completed': 0, 'account_key': '171', 'has_visited': 1}, {'utc_date': datetime.datetime(2018, 3, 9, 0, 0), 'num_courses_visited': 2, 'total_minutes_visited': 188.4147333, 'lessons_completed': 0, 'projects_completed': 0, 'account_key': '171', 'has_visited': 1}, {'utc_date': datetime.datetime(2018, 3, 10, 0, 0), 'num_courses_visited': 1, 'total_minutes_visited': 554.3022598, 'lessons_completed': 0, 'projects_completed': 0, 'account_key': '171', 'has_visited': 1}, {'utc_date': datetime.datetime(2018, 3, 11, 0, 0), 'num_courses_visited': 1, 'total_minutes_visited': 365.7518803, 'lessons_completed': 0, 'projects_completed': 0, 'account_key': '171', 'has_visited': 1}, {'utc_date': datetime.datetime(2018, 3, 12, 0, 0), 'num_courses_visited': 1, 'total_minutes_visited': 307.2154792, 'lessons_completed': 1, 'projects_completed': 0, 'account_key': '171', 'has_visited': 1}, {'utc_date': datetime.datetime(2018, 3, 13, 0, 0), 'num_courses_visited': 1, 'total_minutes_visited': 85.5307195, 'lessons_completed': 1, 'projects_completed': 0, 'account_key': '171', 'has_visited': 1}, {'utc_date': datetime.datetime(2018, 3, 14, 0, 0), 'num_courses_visited': 1, 'total_minutes_visited': 230.2113573, 'lessons_completed': 2, 'projects_completed': 0, 'account_key': '171', 'has_visited': 1}, {'utc_date': datetime.datetime(2018, 3, 15, 0, 0), 'num_courses_visited': 1, 'total_minutes_visited': 296.5427677, 'lessons_completed': 1, 'projects_completed': 0, 'account_key': '171', 'has_visited': 1}]\n"
     ]
    }
   ],
   "source": [
    "for k, v in minutes_per_accounts.items():\n",
    "    if v == most_minutes_spent:\n",
    "        print(engagements_grouped_by_account[k])\n",
    "        break"
   ]
  },
  {
   "cell_type": "code",
   "execution_count": 57,
   "metadata": {},
   "outputs": [
    {
     "name": "stdout",
     "output_type": "stream",
     "text": [
      "2017-11-05 00:00:00\n"
     ]
    }
   ],
   "source": [
    "# HOMEWORK:\n",
    "\n",
    "# Take a look at data and come up with 3 good questions and use some of the methods done in this \n",
    "# Jupyter Notebook to successfully answer the questions.\n",
    "\n",
    "#1 when was the first person to sign up?\n",
    "\n",
    "def first_person(dataset, column_name):\n",
    "    current_first_person = \"\"\n",
    "    for row in dataset:\n",
    "        if current_first_person == \"\":\n",
    "            current_first_person = row['join_date']\n",
    "        if row['join_date'] < current_first_person:\n",
    "            current_first_person = row['join_date']\n",
    "    return current_first_person\n",
    "\n",
    "first_person = first_person(enrollments_data, 'join_date')\n",
    "print(first_person)"
   ]
  },
  {
   "cell_type": "code",
   "execution_count": 60,
   "metadata": {},
   "outputs": [
    {
     "ename": "SyntaxError",
     "evalue": "invalid syntax (<ipython-input-60-bbefa1929cc0>, line 8)",
     "output_type": "error",
     "traceback": [
      "\u001b[1;36m  File \u001b[1;32m\"<ipython-input-60-bbefa1929cc0>\"\u001b[1;36m, line \u001b[1;32m8\u001b[0m\n\u001b[1;33m    if row['join_date'] == %Y-05-31-2017:\u001b[0m\n\u001b[1;37m                           ^\u001b[0m\n\u001b[1;31mSyntaxError\u001b[0m\u001b[1;31m:\u001b[0m invalid syntax\n"
     ]
    }
   ],
   "source": [
    "#2 who signed up Memorial day?\n",
    "\n",
    "def memorial_day(dataset, column_name):\n",
    "    current_person = \"\"\n",
    "    for row in dataset:\n",
    "        if current_person == \"\":\n",
    "            current_person = row['join_date']\n",
    "        if row['join_date'] == %Y-05-31:\n",
    "            current_person = row['join_date']\n",
    "        return current_person\n",
    "memorial_day = memorial_day(enrollment_data, 'join_date')\n",
    "    \n",
    "    \n",
    "        \n",
    "#we want to pull the data of student that signed up on 5/31 of any year\n",
    "#we filtered out the data and got only one match\n"
   ]
  },
  {
   "cell_type": "code",
   "execution_count": null,
   "metadata": {},
   "outputs": [],
   "source": [
    "# which users got ungraded?\n",
    "\n",
    "def ungraded(dataset, column_name):\n",
    "    vip = \"\"\n",
    "    for row in dataset:\n",
    "        if vip == row['assigned_rating']('UNGRADED'):\n",
    "            vip = row['assigned_rating']('UNGRADED')\n",
    "    return vip\n",
    "ungraded = ungraded(submission_data, 'assigned_rating')\n",
    "            \n",
    "#we only found one user and that was below\n",
    "#2018-03-10\t2018-03-11 UNGRADED 1098 3168208620 EVALUATED\n",
    "\n"
   ]
  }
 ],
 "metadata": {
  "kernelspec": {
   "display_name": "Python 3",
   "language": "python",
   "name": "python3"
  },
  "language_info": {
   "codemirror_mode": {
    "name": "ipython",
    "version": 3
   },
   "file_extension": ".py",
   "mimetype": "text/x-python",
   "name": "python",
   "nbconvert_exporter": "python",
   "pygments_lexer": "ipython3",
   "version": "3.8.5"
  }
 },
 "nbformat": 4,
 "nbformat_minor": 5
}
